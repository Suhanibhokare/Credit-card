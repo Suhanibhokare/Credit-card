{
 "cells": [
  {
   "cell_type": "code",
   "execution_count": 1,
   "id": "f0a3086c",
   "metadata": {
    "executionInfo": {
     "elapsed": 1692,
     "status": "ok",
     "timestamp": 1690814290590,
     "user": {
      "displayName": "8905 TABASSUM SHAIKH",
      "userId": "13412648063279924252"
     },
     "user_tz": -330
    },
    "id": "f0a3086c"
   },
   "outputs": [],
   "source": [
    "#importing libraries\n",
    "import matplotlib.pyplot as plt\n",
    "import seaborn as sns\n",
    "import numpy as np\n",
    "import os\n",
    "import pandas as pd"
   ]
  },
  {
   "cell_type": "code",
   "execution_count": 2,
   "id": "8d1fd7bf",
   "metadata": {
    "colab": {
     "base_uri": "https://localhost:8080/"
    },
    "executionInfo": {
     "elapsed": 414,
     "status": "ok",
     "timestamp": 1690814292974,
     "user": {
      "displayName": "8905 TABASSUM SHAIKH",
      "userId": "13412648063279924252"
     },
     "user_tz": -330
    },
    "id": "8d1fd7bf",
    "outputId": "234d6f8c-eac0-481f-c3f8-3b19939a6015"
   },
   "outputs": [
    {
     "name": "stdout",
     "output_type": "stream",
     "text": [
      "There are 1000 rows and 31 columns\n"
     ]
    }
   ],
   "source": [
    "nRowsRead = 1000\n",
    "dt= pd.read_csv('creditcard.csv', delimiter=',', nrows = nRowsRead)\n",
    "dt.dataframeName = 'creditcard.csv'\n",
    "nRow, nCol = dt.shape\n",
    "print(f'There are {nRow} rows and {nCol} columns')"
   ]
  },
  {
   "cell_type": "code",
   "execution_count": 3,
   "id": "85d61539",
   "metadata": {
    "colab": {
     "base_uri": "https://localhost:8080/",
     "height": 300
    },
    "executionInfo": {
     "elapsed": 419,
     "status": "ok",
     "timestamp": 1690814296547,
     "user": {
      "displayName": "8905 TABASSUM SHAIKH",
      "userId": "13412648063279924252"
     },
     "user_tz": -330
    },
    "id": "85d61539",
    "outputId": "288b7b06-f9af-457d-e47c-c2ddcb2f1461"
   },
   "outputs": [
    {
     "data": {
      "text/html": [
       "\n",
       "\n",
       "  <div id=\"df-80683fa3-9769-486b-b78d-bd1aae0e21de\">\n",
       "    <div class=\"colab-df-container\">\n",
       "      <div>\n",
       "<style scoped>\n",
       "    .dataframe tbody tr th:only-of-type {\n",
       "        vertical-align: middle;\n",
       "    }\n",
       "\n",
       "    .dataframe tbody tr th {\n",
       "        vertical-align: top;\n",
       "    }\n",
       "\n",
       "    .dataframe thead th {\n",
       "        text-align: right;\n",
       "    }\n",
       "</style>\n",
       "<table border=\"1\" class=\"dataframe\">\n",
       "  <thead>\n",
       "    <tr style=\"text-align: right;\">\n",
       "      <th></th>\n",
       "      <th>Time</th>\n",
       "      <th>V1</th>\n",
       "      <th>V2</th>\n",
       "      <th>V3</th>\n",
       "      <th>V4</th>\n",
       "      <th>V5</th>\n",
       "      <th>V6</th>\n",
       "      <th>V7</th>\n",
       "      <th>V8</th>\n",
       "      <th>V9</th>\n",
       "      <th>...</th>\n",
       "      <th>V21</th>\n",
       "      <th>V22</th>\n",
       "      <th>V23</th>\n",
       "      <th>V24</th>\n",
       "      <th>V25</th>\n",
       "      <th>V26</th>\n",
       "      <th>V27</th>\n",
       "      <th>V28</th>\n",
       "      <th>Amount</th>\n",
       "      <th>Class</th>\n",
       "    </tr>\n",
       "  </thead>\n",
       "  <tbody>\n",
       "    <tr>\n",
       "      <th>0</th>\n",
       "      <td>0</td>\n",
       "      <td>-1.359807</td>\n",
       "      <td>-0.072781</td>\n",
       "      <td>2.536347</td>\n",
       "      <td>1.378155</td>\n",
       "      <td>-0.338321</td>\n",
       "      <td>0.462388</td>\n",
       "      <td>0.239599</td>\n",
       "      <td>0.098698</td>\n",
       "      <td>0.363787</td>\n",
       "      <td>...</td>\n",
       "      <td>-0.018307</td>\n",
       "      <td>0.277838</td>\n",
       "      <td>-0.110474</td>\n",
       "      <td>0.066928</td>\n",
       "      <td>0.128539</td>\n",
       "      <td>-0.189115</td>\n",
       "      <td>0.133558</td>\n",
       "      <td>-0.021053</td>\n",
       "      <td>149.62</td>\n",
       "      <td>0</td>\n",
       "    </tr>\n",
       "    <tr>\n",
       "      <th>1</th>\n",
       "      <td>0</td>\n",
       "      <td>1.191857</td>\n",
       "      <td>0.266151</td>\n",
       "      <td>0.166480</td>\n",
       "      <td>0.448154</td>\n",
       "      <td>0.060018</td>\n",
       "      <td>-0.082361</td>\n",
       "      <td>-0.078803</td>\n",
       "      <td>0.085102</td>\n",
       "      <td>-0.255425</td>\n",
       "      <td>...</td>\n",
       "      <td>-0.225775</td>\n",
       "      <td>-0.638672</td>\n",
       "      <td>0.101288</td>\n",
       "      <td>-0.339846</td>\n",
       "      <td>0.167170</td>\n",
       "      <td>0.125895</td>\n",
       "      <td>-0.008983</td>\n",
       "      <td>0.014724</td>\n",
       "      <td>2.69</td>\n",
       "      <td>0</td>\n",
       "    </tr>\n",
       "    <tr>\n",
       "      <th>2</th>\n",
       "      <td>1</td>\n",
       "      <td>-1.358354</td>\n",
       "      <td>-1.340163</td>\n",
       "      <td>1.773209</td>\n",
       "      <td>0.379780</td>\n",
       "      <td>-0.503198</td>\n",
       "      <td>1.800499</td>\n",
       "      <td>0.791461</td>\n",
       "      <td>0.247676</td>\n",
       "      <td>-1.514654</td>\n",
       "      <td>...</td>\n",
       "      <td>0.247998</td>\n",
       "      <td>0.771679</td>\n",
       "      <td>0.909412</td>\n",
       "      <td>-0.689281</td>\n",
       "      <td>-0.327642</td>\n",
       "      <td>-0.139097</td>\n",
       "      <td>-0.055353</td>\n",
       "      <td>-0.059752</td>\n",
       "      <td>378.66</td>\n",
       "      <td>0</td>\n",
       "    </tr>\n",
       "    <tr>\n",
       "      <th>3</th>\n",
       "      <td>1</td>\n",
       "      <td>-0.966272</td>\n",
       "      <td>-0.185226</td>\n",
       "      <td>1.792993</td>\n",
       "      <td>-0.863291</td>\n",
       "      <td>-0.010309</td>\n",
       "      <td>1.247203</td>\n",
       "      <td>0.237609</td>\n",
       "      <td>0.377436</td>\n",
       "      <td>-1.387024</td>\n",
       "      <td>...</td>\n",
       "      <td>-0.108300</td>\n",
       "      <td>0.005274</td>\n",
       "      <td>-0.190321</td>\n",
       "      <td>-1.175575</td>\n",
       "      <td>0.647376</td>\n",
       "      <td>-0.221929</td>\n",
       "      <td>0.062723</td>\n",
       "      <td>0.061458</td>\n",
       "      <td>123.50</td>\n",
       "      <td>0</td>\n",
       "    </tr>\n",
       "    <tr>\n",
       "      <th>4</th>\n",
       "      <td>2</td>\n",
       "      <td>-1.158233</td>\n",
       "      <td>0.877737</td>\n",
       "      <td>1.548718</td>\n",
       "      <td>0.403034</td>\n",
       "      <td>-0.407193</td>\n",
       "      <td>0.095921</td>\n",
       "      <td>0.592941</td>\n",
       "      <td>-0.270533</td>\n",
       "      <td>0.817739</td>\n",
       "      <td>...</td>\n",
       "      <td>-0.009431</td>\n",
       "      <td>0.798278</td>\n",
       "      <td>-0.137458</td>\n",
       "      <td>0.141267</td>\n",
       "      <td>-0.206010</td>\n",
       "      <td>0.502292</td>\n",
       "      <td>0.219422</td>\n",
       "      <td>0.215153</td>\n",
       "      <td>69.99</td>\n",
       "      <td>0</td>\n",
       "    </tr>\n",
       "  </tbody>\n",
       "</table>\n",
       "<p>5 rows × 31 columns</p>\n",
       "</div>\n",
       "      <button class=\"colab-df-convert\" onclick=\"convertToInteractive('df-80683fa3-9769-486b-b78d-bd1aae0e21de')\"\n",
       "              title=\"Convert this dataframe to an interactive table.\"\n",
       "              style=\"display:none;\">\n",
       "\n",
       "  <svg xmlns=\"http://www.w3.org/2000/svg\" height=\"24px\"viewBox=\"0 0 24 24\"\n",
       "       width=\"24px\">\n",
       "    <path d=\"M0 0h24v24H0V0z\" fill=\"none\"/>\n",
       "    <path d=\"M18.56 5.44l.94 2.06.94-2.06 2.06-.94-2.06-.94-.94-2.06-.94 2.06-2.06.94zm-11 1L8.5 8.5l.94-2.06 2.06-.94-2.06-.94L8.5 2.5l-.94 2.06-2.06.94zm10 10l.94 2.06.94-2.06 2.06-.94-2.06-.94-.94-2.06-.94 2.06-2.06.94z\"/><path d=\"M17.41 7.96l-1.37-1.37c-.4-.4-.92-.59-1.43-.59-.52 0-1.04.2-1.43.59L10.3 9.45l-7.72 7.72c-.78.78-.78 2.05 0 2.83L4 21.41c.39.39.9.59 1.41.59.51 0 1.02-.2 1.41-.59l7.78-7.78 2.81-2.81c.8-.78.8-2.07 0-2.86zM5.41 20L4 18.59l7.72-7.72 1.47 1.35L5.41 20z\"/>\n",
       "  </svg>\n",
       "      </button>\n",
       "\n",
       "\n",
       "\n",
       "    <div id=\"df-3876ba69-4f49-4f37-bb9e-1b7d2861d214\">\n",
       "      <button class=\"colab-df-quickchart\" onclick=\"quickchart('df-3876ba69-4f49-4f37-bb9e-1b7d2861d214')\"\n",
       "              title=\"Suggest charts.\"\n",
       "              style=\"display:none;\">\n",
       "\n",
       "<svg xmlns=\"http://www.w3.org/2000/svg\" height=\"24px\"viewBox=\"0 0 24 24\"\n",
       "     width=\"24px\">\n",
       "    <g>\n",
       "        <path d=\"M19 3H5c-1.1 0-2 .9-2 2v14c0 1.1.9 2 2 2h14c1.1 0 2-.9 2-2V5c0-1.1-.9-2-2-2zM9 17H7v-7h2v7zm4 0h-2V7h2v10zm4 0h-2v-4h2v4z\"/>\n",
       "    </g>\n",
       "</svg>\n",
       "      </button>\n",
       "    </div>\n",
       "\n",
       "<style>\n",
       "  .colab-df-quickchart {\n",
       "    background-color: #E8F0FE;\n",
       "    border: none;\n",
       "    border-radius: 50%;\n",
       "    cursor: pointer;\n",
       "    display: none;\n",
       "    fill: #1967D2;\n",
       "    height: 32px;\n",
       "    padding: 0 0 0 0;\n",
       "    width: 32px;\n",
       "  }\n",
       "\n",
       "  .colab-df-quickchart:hover {\n",
       "    background-color: #E2EBFA;\n",
       "    box-shadow: 0px 1px 2px rgba(60, 64, 67, 0.3), 0px 1px 3px 1px rgba(60, 64, 67, 0.15);\n",
       "    fill: #174EA6;\n",
       "  }\n",
       "\n",
       "  [theme=dark] .colab-df-quickchart {\n",
       "    background-color: #3B4455;\n",
       "    fill: #D2E3FC;\n",
       "  }\n",
       "\n",
       "  [theme=dark] .colab-df-quickchart:hover {\n",
       "    background-color: #434B5C;\n",
       "    box-shadow: 0px 1px 3px 1px rgba(0, 0, 0, 0.15);\n",
       "    filter: drop-shadow(0px 1px 2px rgba(0, 0, 0, 0.3));\n",
       "    fill: #FFFFFF;\n",
       "  }\n",
       "</style>\n",
       "\n",
       "    <script>\n",
       "      async function quickchart(key) {\n",
       "        const containerElement = document.querySelector('#' + key);\n",
       "        const charts = await google.colab.kernel.invokeFunction(\n",
       "            'suggestCharts', [key], {});\n",
       "      }\n",
       "    </script>\n",
       "\n",
       "      <script>\n",
       "\n",
       "function displayQuickchartButton(domScope) {\n",
       "  let quickchartButtonEl =\n",
       "    domScope.querySelector('#df-3876ba69-4f49-4f37-bb9e-1b7d2861d214 button.colab-df-quickchart');\n",
       "  quickchartButtonEl.style.display =\n",
       "    google.colab.kernel.accessAllowed ? 'block' : 'none';\n",
       "}\n",
       "\n",
       "        displayQuickchartButton(document);\n",
       "      </script>\n",
       "      <style>\n",
       "    .colab-df-container {\n",
       "      display:flex;\n",
       "      flex-wrap:wrap;\n",
       "      gap: 12px;\n",
       "    }\n",
       "\n",
       "    .colab-df-convert {\n",
       "      background-color: #E8F0FE;\n",
       "      border: none;\n",
       "      border-radius: 50%;\n",
       "      cursor: pointer;\n",
       "      display: none;\n",
       "      fill: #1967D2;\n",
       "      height: 32px;\n",
       "      padding: 0 0 0 0;\n",
       "      width: 32px;\n",
       "    }\n",
       "\n",
       "    .colab-df-convert:hover {\n",
       "      background-color: #E2EBFA;\n",
       "      box-shadow: 0px 1px 2px rgba(60, 64, 67, 0.3), 0px 1px 3px 1px rgba(60, 64, 67, 0.15);\n",
       "      fill: #174EA6;\n",
       "    }\n",
       "\n",
       "    [theme=dark] .colab-df-convert {\n",
       "      background-color: #3B4455;\n",
       "      fill: #D2E3FC;\n",
       "    }\n",
       "\n",
       "    [theme=dark] .colab-df-convert:hover {\n",
       "      background-color: #434B5C;\n",
       "      box-shadow: 0px 1px 3px 1px rgba(0, 0, 0, 0.15);\n",
       "      filter: drop-shadow(0px 1px 2px rgba(0, 0, 0, 0.3));\n",
       "      fill: #FFFFFF;\n",
       "    }\n",
       "  </style>\n",
       "\n",
       "      <script>\n",
       "        const buttonEl =\n",
       "          document.querySelector('#df-80683fa3-9769-486b-b78d-bd1aae0e21de button.colab-df-convert');\n",
       "        buttonEl.style.display =\n",
       "          google.colab.kernel.accessAllowed ? 'block' : 'none';\n",
       "\n",
       "        async function convertToInteractive(key) {\n",
       "          const element = document.querySelector('#df-80683fa3-9769-486b-b78d-bd1aae0e21de');\n",
       "          const dataTable =\n",
       "            await google.colab.kernel.invokeFunction('convertToInteractive',\n",
       "                                                     [key], {});\n",
       "          if (!dataTable) return;\n",
       "\n",
       "          const docLinkHtml = 'Like what you see? Visit the ' +\n",
       "            '<a target=\"_blank\" href=https://colab.research.google.com/notebooks/data_table.ipynb>data table notebook</a>'\n",
       "            + ' to learn more about interactive tables.';\n",
       "          element.innerHTML = '';\n",
       "          dataTable['output_type'] = 'display_data';\n",
       "          await google.colab.output.renderOutput(dataTable, element);\n",
       "          const docLink = document.createElement('div');\n",
       "          docLink.innerHTML = docLinkHtml;\n",
       "          element.appendChild(docLink);\n",
       "        }\n",
       "      </script>\n",
       "    </div>\n",
       "  </div>\n"
      ],
      "text/plain": [
       "   Time        V1        V2        V3        V4        V5        V6        V7  \\\n",
       "0     0 -1.359807 -0.072781  2.536347  1.378155 -0.338321  0.462388  0.239599   \n",
       "1     0  1.191857  0.266151  0.166480  0.448154  0.060018 -0.082361 -0.078803   \n",
       "2     1 -1.358354 -1.340163  1.773209  0.379780 -0.503198  1.800499  0.791461   \n",
       "3     1 -0.966272 -0.185226  1.792993 -0.863291 -0.010309  1.247203  0.237609   \n",
       "4     2 -1.158233  0.877737  1.548718  0.403034 -0.407193  0.095921  0.592941   \n",
       "\n",
       "         V8        V9  ...       V21       V22       V23       V24       V25  \\\n",
       "0  0.098698  0.363787  ... -0.018307  0.277838 -0.110474  0.066928  0.128539   \n",
       "1  0.085102 -0.255425  ... -0.225775 -0.638672  0.101288 -0.339846  0.167170   \n",
       "2  0.247676 -1.514654  ...  0.247998  0.771679  0.909412 -0.689281 -0.327642   \n",
       "3  0.377436 -1.387024  ... -0.108300  0.005274 -0.190321 -1.175575  0.647376   \n",
       "4 -0.270533  0.817739  ... -0.009431  0.798278 -0.137458  0.141267 -0.206010   \n",
       "\n",
       "        V26       V27       V28  Amount  Class  \n",
       "0 -0.189115  0.133558 -0.021053  149.62      0  \n",
       "1  0.125895 -0.008983  0.014724    2.69      0  \n",
       "2 -0.139097 -0.055353 -0.059752  378.66      0  \n",
       "3 -0.221929  0.062723  0.061458  123.50      0  \n",
       "4  0.502292  0.219422  0.215153   69.99      0  \n",
       "\n",
       "[5 rows x 31 columns]"
      ]
     },
     "execution_count": 3,
     "metadata": {},
     "output_type": "execute_result"
    }
   ],
   "source": [
    "dt.head(5)"
   ]
  },
  {
   "cell_type": "code",
   "execution_count": 4,
   "id": "203144f8",
   "metadata": {
    "colab": {
     "base_uri": "https://localhost:8080/",
     "height": 300
    },
    "executionInfo": {
     "elapsed": 444,
     "status": "ok",
     "timestamp": 1690814299986,
     "user": {
      "displayName": "8905 TABASSUM SHAIKH",
      "userId": "13412648063279924252"
     },
     "user_tz": -330
    },
    "id": "203144f8",
    "outputId": "fcd0179b-2444-4a4c-ca2a-3265a9afd23f"
   },
   "outputs": [
    {
     "data": {
      "text/html": [
       "\n",
       "\n",
       "  <div id=\"df-8edb818c-3746-4893-9532-1ab78520adcb\">\n",
       "    <div class=\"colab-df-container\">\n",
       "      <div>\n",
       "<style scoped>\n",
       "    .dataframe tbody tr th:only-of-type {\n",
       "        vertical-align: middle;\n",
       "    }\n",
       "\n",
       "    .dataframe tbody tr th {\n",
       "        vertical-align: top;\n",
       "    }\n",
       "\n",
       "    .dataframe thead th {\n",
       "        text-align: right;\n",
       "    }\n",
       "</style>\n",
       "<table border=\"1\" class=\"dataframe\">\n",
       "  <thead>\n",
       "    <tr style=\"text-align: right;\">\n",
       "      <th></th>\n",
       "      <th>Time</th>\n",
       "      <th>V1</th>\n",
       "      <th>V2</th>\n",
       "      <th>V3</th>\n",
       "      <th>V4</th>\n",
       "      <th>V5</th>\n",
       "      <th>V6</th>\n",
       "      <th>V7</th>\n",
       "      <th>V8</th>\n",
       "      <th>V9</th>\n",
       "      <th>...</th>\n",
       "      <th>V21</th>\n",
       "      <th>V22</th>\n",
       "      <th>V23</th>\n",
       "      <th>V24</th>\n",
       "      <th>V25</th>\n",
       "      <th>V26</th>\n",
       "      <th>V27</th>\n",
       "      <th>V28</th>\n",
       "      <th>Amount</th>\n",
       "      <th>Class</th>\n",
       "    </tr>\n",
       "  </thead>\n",
       "  <tbody>\n",
       "    <tr>\n",
       "      <th>995</th>\n",
       "      <td>751</td>\n",
       "      <td>-0.654892</td>\n",
       "      <td>0.608319</td>\n",
       "      <td>1.585102</td>\n",
       "      <td>-3.009429</td>\n",
       "      <td>0.037593</td>\n",
       "      <td>-1.954023</td>\n",
       "      <td>1.335977</td>\n",
       "      <td>-0.612858</td>\n",
       "      <td>0.690254</td>\n",
       "      <td>...</td>\n",
       "      <td>-0.078527</td>\n",
       "      <td>-0.064194</td>\n",
       "      <td>-0.107350</td>\n",
       "      <td>0.961776</td>\n",
       "      <td>-0.067760</td>\n",
       "      <td>-0.549465</td>\n",
       "      <td>-0.232588</td>\n",
       "      <td>-0.108261</td>\n",
       "      <td>3.90</td>\n",
       "      <td>0</td>\n",
       "    </tr>\n",
       "    <tr>\n",
       "      <th>996</th>\n",
       "      <td>752</td>\n",
       "      <td>-2.101171</td>\n",
       "      <td>-0.227365</td>\n",
       "      <td>1.624668</td>\n",
       "      <td>-0.291123</td>\n",
       "      <td>1.902446</td>\n",
       "      <td>-1.483921</td>\n",
       "      <td>-0.275117</td>\n",
       "      <td>0.085964</td>\n",
       "      <td>-0.563098</td>\n",
       "      <td>...</td>\n",
       "      <td>-0.313782</td>\n",
       "      <td>-0.804784</td>\n",
       "      <td>-0.474101</td>\n",
       "      <td>0.008102</td>\n",
       "      <td>0.259725</td>\n",
       "      <td>0.032376</td>\n",
       "      <td>0.323580</td>\n",
       "      <td>0.034622</td>\n",
       "      <td>1.78</td>\n",
       "      <td>0</td>\n",
       "    </tr>\n",
       "    <tr>\n",
       "      <th>997</th>\n",
       "      <td>753</td>\n",
       "      <td>-1.248163</td>\n",
       "      <td>0.315246</td>\n",
       "      <td>3.708935</td>\n",
       "      <td>0.687280</td>\n",
       "      <td>-0.873071</td>\n",
       "      <td>1.091287</td>\n",
       "      <td>0.297707</td>\n",
       "      <td>-0.633135</td>\n",
       "      <td>1.102317</td>\n",
       "      <td>...</td>\n",
       "      <td>-0.824013</td>\n",
       "      <td>0.057907</td>\n",
       "      <td>-0.282351</td>\n",
       "      <td>0.630774</td>\n",
       "      <td>0.283506</td>\n",
       "      <td>-0.204264</td>\n",
       "      <td>0.097555</td>\n",
       "      <td>-0.670480</td>\n",
       "      <td>30.00</td>\n",
       "      <td>0</td>\n",
       "    </tr>\n",
       "    <tr>\n",
       "      <th>998</th>\n",
       "      <td>755</td>\n",
       "      <td>1.374134</td>\n",
       "      <td>-1.767210</td>\n",
       "      <td>-0.433352</td>\n",
       "      <td>-2.229552</td>\n",
       "      <td>0.331135</td>\n",
       "      <td>3.924775</td>\n",
       "      <td>-2.049947</td>\n",
       "      <td>1.001403</td>\n",
       "      <td>-1.183310</td>\n",
       "      <td>...</td>\n",
       "      <td>-0.252942</td>\n",
       "      <td>-0.461534</td>\n",
       "      <td>-0.030890</td>\n",
       "      <td>0.997119</td>\n",
       "      <td>0.384299</td>\n",
       "      <td>-0.187538</td>\n",
       "      <td>0.068817</td>\n",
       "      <td>0.038009</td>\n",
       "      <td>82.37</td>\n",
       "      <td>0</td>\n",
       "    </tr>\n",
       "    <tr>\n",
       "      <th>999</th>\n",
       "      <td>755</td>\n",
       "      <td>-2.497436</td>\n",
       "      <td>1.402769</td>\n",
       "      <td>0.184840</td>\n",
       "      <td>-2.504117</td>\n",
       "      <td>-0.111803</td>\n",
       "      <td>-0.902909</td>\n",
       "      <td>0.110183</td>\n",
       "      <td>-3.655788</td>\n",
       "      <td>2.231761</td>\n",
       "      <td>...</td>\n",
       "      <td>2.777155</td>\n",
       "      <td>-0.664909</td>\n",
       "      <td>0.594689</td>\n",
       "      <td>0.330380</td>\n",
       "      <td>0.064190</td>\n",
       "      <td>-0.110533</td>\n",
       "      <td>0.672165</td>\n",
       "      <td>0.114739</td>\n",
       "      <td>8.00</td>\n",
       "      <td>0</td>\n",
       "    </tr>\n",
       "  </tbody>\n",
       "</table>\n",
       "<p>5 rows × 31 columns</p>\n",
       "</div>\n",
       "      <button class=\"colab-df-convert\" onclick=\"convertToInteractive('df-8edb818c-3746-4893-9532-1ab78520adcb')\"\n",
       "              title=\"Convert this dataframe to an interactive table.\"\n",
       "              style=\"display:none;\">\n",
       "\n",
       "  <svg xmlns=\"http://www.w3.org/2000/svg\" height=\"24px\"viewBox=\"0 0 24 24\"\n",
       "       width=\"24px\">\n",
       "    <path d=\"M0 0h24v24H0V0z\" fill=\"none\"/>\n",
       "    <path d=\"M18.56 5.44l.94 2.06.94-2.06 2.06-.94-2.06-.94-.94-2.06-.94 2.06-2.06.94zm-11 1L8.5 8.5l.94-2.06 2.06-.94-2.06-.94L8.5 2.5l-.94 2.06-2.06.94zm10 10l.94 2.06.94-2.06 2.06-.94-2.06-.94-.94-2.06-.94 2.06-2.06.94z\"/><path d=\"M17.41 7.96l-1.37-1.37c-.4-.4-.92-.59-1.43-.59-.52 0-1.04.2-1.43.59L10.3 9.45l-7.72 7.72c-.78.78-.78 2.05 0 2.83L4 21.41c.39.39.9.59 1.41.59.51 0 1.02-.2 1.41-.59l7.78-7.78 2.81-2.81c.8-.78.8-2.07 0-2.86zM5.41 20L4 18.59l7.72-7.72 1.47 1.35L5.41 20z\"/>\n",
       "  </svg>\n",
       "      </button>\n",
       "\n",
       "\n",
       "\n",
       "    <div id=\"df-b6f41210-86aa-4259-9501-0b87dbbc7c39\">\n",
       "      <button class=\"colab-df-quickchart\" onclick=\"quickchart('df-b6f41210-86aa-4259-9501-0b87dbbc7c39')\"\n",
       "              title=\"Suggest charts.\"\n",
       "              style=\"display:none;\">\n",
       "\n",
       "<svg xmlns=\"http://www.w3.org/2000/svg\" height=\"24px\"viewBox=\"0 0 24 24\"\n",
       "     width=\"24px\">\n",
       "    <g>\n",
       "        <path d=\"M19 3H5c-1.1 0-2 .9-2 2v14c0 1.1.9 2 2 2h14c1.1 0 2-.9 2-2V5c0-1.1-.9-2-2-2zM9 17H7v-7h2v7zm4 0h-2V7h2v10zm4 0h-2v-4h2v4z\"/>\n",
       "    </g>\n",
       "</svg>\n",
       "      </button>\n",
       "    </div>\n",
       "\n",
       "<style>\n",
       "  .colab-df-quickchart {\n",
       "    background-color: #E8F0FE;\n",
       "    border: none;\n",
       "    border-radius: 50%;\n",
       "    cursor: pointer;\n",
       "    display: none;\n",
       "    fill: #1967D2;\n",
       "    height: 32px;\n",
       "    padding: 0 0 0 0;\n",
       "    width: 32px;\n",
       "  }\n",
       "\n",
       "  .colab-df-quickchart:hover {\n",
       "    background-color: #E2EBFA;\n",
       "    box-shadow: 0px 1px 2px rgba(60, 64, 67, 0.3), 0px 1px 3px 1px rgba(60, 64, 67, 0.15);\n",
       "    fill: #174EA6;\n",
       "  }\n",
       "\n",
       "  [theme=dark] .colab-df-quickchart {\n",
       "    background-color: #3B4455;\n",
       "    fill: #D2E3FC;\n",
       "  }\n",
       "\n",
       "  [theme=dark] .colab-df-quickchart:hover {\n",
       "    background-color: #434B5C;\n",
       "    box-shadow: 0px 1px 3px 1px rgba(0, 0, 0, 0.15);\n",
       "    filter: drop-shadow(0px 1px 2px rgba(0, 0, 0, 0.3));\n",
       "    fill: #FFFFFF;\n",
       "  }\n",
       "</style>\n",
       "\n",
       "    <script>\n",
       "      async function quickchart(key) {\n",
       "        const containerElement = document.querySelector('#' + key);\n",
       "        const charts = await google.colab.kernel.invokeFunction(\n",
       "            'suggestCharts', [key], {});\n",
       "      }\n",
       "    </script>\n",
       "\n",
       "      <script>\n",
       "\n",
       "function displayQuickchartButton(domScope) {\n",
       "  let quickchartButtonEl =\n",
       "    domScope.querySelector('#df-b6f41210-86aa-4259-9501-0b87dbbc7c39 button.colab-df-quickchart');\n",
       "  quickchartButtonEl.style.display =\n",
       "    google.colab.kernel.accessAllowed ? 'block' : 'none';\n",
       "}\n",
       "\n",
       "        displayQuickchartButton(document);\n",
       "      </script>\n",
       "      <style>\n",
       "    .colab-df-container {\n",
       "      display:flex;\n",
       "      flex-wrap:wrap;\n",
       "      gap: 12px;\n",
       "    }\n",
       "\n",
       "    .colab-df-convert {\n",
       "      background-color: #E8F0FE;\n",
       "      border: none;\n",
       "      border-radius: 50%;\n",
       "      cursor: pointer;\n",
       "      display: none;\n",
       "      fill: #1967D2;\n",
       "      height: 32px;\n",
       "      padding: 0 0 0 0;\n",
       "      width: 32px;\n",
       "    }\n",
       "\n",
       "    .colab-df-convert:hover {\n",
       "      background-color: #E2EBFA;\n",
       "      box-shadow: 0px 1px 2px rgba(60, 64, 67, 0.3), 0px 1px 3px 1px rgba(60, 64, 67, 0.15);\n",
       "      fill: #174EA6;\n",
       "    }\n",
       "\n",
       "    [theme=dark] .colab-df-convert {\n",
       "      background-color: #3B4455;\n",
       "      fill: #D2E3FC;\n",
       "    }\n",
       "\n",
       "    [theme=dark] .colab-df-convert:hover {\n",
       "      background-color: #434B5C;\n",
       "      box-shadow: 0px 1px 3px 1px rgba(0, 0, 0, 0.15);\n",
       "      filter: drop-shadow(0px 1px 2px rgba(0, 0, 0, 0.3));\n",
       "      fill: #FFFFFF;\n",
       "    }\n",
       "  </style>\n",
       "\n",
       "      <script>\n",
       "        const buttonEl =\n",
       "          document.querySelector('#df-8edb818c-3746-4893-9532-1ab78520adcb button.colab-df-convert');\n",
       "        buttonEl.style.display =\n",
       "          google.colab.kernel.accessAllowed ? 'block' : 'none';\n",
       "\n",
       "        async function convertToInteractive(key) {\n",
       "          const element = document.querySelector('#df-8edb818c-3746-4893-9532-1ab78520adcb');\n",
       "          const dataTable =\n",
       "            await google.colab.kernel.invokeFunction('convertToInteractive',\n",
       "                                                     [key], {});\n",
       "          if (!dataTable) return;\n",
       "\n",
       "          const docLinkHtml = 'Like what you see? Visit the ' +\n",
       "            '<a target=\"_blank\" href=https://colab.research.google.com/notebooks/data_table.ipynb>data table notebook</a>'\n",
       "            + ' to learn more about interactive tables.';\n",
       "          element.innerHTML = '';\n",
       "          dataTable['output_type'] = 'display_data';\n",
       "          await google.colab.output.renderOutput(dataTable, element);\n",
       "          const docLink = document.createElement('div');\n",
       "          docLink.innerHTML = docLinkHtml;\n",
       "          element.appendChild(docLink);\n",
       "        }\n",
       "      </script>\n",
       "    </div>\n",
       "  </div>\n"
      ],
      "text/plain": [
       "     Time        V1        V2        V3        V4        V5        V6  \\\n",
       "995   751 -0.654892  0.608319  1.585102 -3.009429  0.037593 -1.954023   \n",
       "996   752 -2.101171 -0.227365  1.624668 -0.291123  1.902446 -1.483921   \n",
       "997   753 -1.248163  0.315246  3.708935  0.687280 -0.873071  1.091287   \n",
       "998   755  1.374134 -1.767210 -0.433352 -2.229552  0.331135  3.924775   \n",
       "999   755 -2.497436  1.402769  0.184840 -2.504117 -0.111803 -0.902909   \n",
       "\n",
       "           V7        V8        V9  ...       V21       V22       V23  \\\n",
       "995  1.335977 -0.612858  0.690254  ... -0.078527 -0.064194 -0.107350   \n",
       "996 -0.275117  0.085964 -0.563098  ... -0.313782 -0.804784 -0.474101   \n",
       "997  0.297707 -0.633135  1.102317  ... -0.824013  0.057907 -0.282351   \n",
       "998 -2.049947  1.001403 -1.183310  ... -0.252942 -0.461534 -0.030890   \n",
       "999  0.110183 -3.655788  2.231761  ...  2.777155 -0.664909  0.594689   \n",
       "\n",
       "          V24       V25       V26       V27       V28  Amount  Class  \n",
       "995  0.961776 -0.067760 -0.549465 -0.232588 -0.108261    3.90      0  \n",
       "996  0.008102  0.259725  0.032376  0.323580  0.034622    1.78      0  \n",
       "997  0.630774  0.283506 -0.204264  0.097555 -0.670480   30.00      0  \n",
       "998  0.997119  0.384299 -0.187538  0.068817  0.038009   82.37      0  \n",
       "999  0.330380  0.064190 -0.110533  0.672165  0.114739    8.00      0  \n",
       "\n",
       "[5 rows x 31 columns]"
      ]
     },
     "execution_count": 4,
     "metadata": {},
     "output_type": "execute_result"
    }
   ],
   "source": [
    "dt.tail(5)"
   ]
  },
  {
   "cell_type": "code",
   "execution_count": 5,
   "id": "dff8e002",
   "metadata": {
    "colab": {
     "base_uri": "https://localhost:8080/"
    },
    "executionInfo": {
     "elapsed": 379,
     "status": "ok",
     "timestamp": 1690814304174,
     "user": {
      "displayName": "8905 TABASSUM SHAIKH",
      "userId": "13412648063279924252"
     },
     "user_tz": -330
    },
    "id": "dff8e002",
    "outputId": "0b5d61ad-d0d2-435d-c213-2f53bcbcf2f7"
   },
   "outputs": [
    {
     "data": {
      "text/plain": [
       "(1000, 31)"
      ]
     },
     "execution_count": 5,
     "metadata": {},
     "output_type": "execute_result"
    }
   ],
   "source": [
    "# Print the shape of the data\n",
    "dt.shape"
   ]
  },
  {
   "cell_type": "code",
   "execution_count": 6,
   "id": "d1d3b72f",
   "metadata": {
    "colab": {
     "base_uri": "https://localhost:8080/",
     "height": 394
    },
    "executionInfo": {
     "elapsed": 425,
     "status": "ok",
     "timestamp": 1690814306185,
     "user": {
      "displayName": "8905 TABASSUM SHAIKH",
      "userId": "13412648063279924252"
     },
     "user_tz": -330
    },
    "id": "d1d3b72f",
    "outputId": "c0f5c41f-57d0-4498-a969-65aac2e8b272"
   },
   "outputs": [
    {
     "data": {
      "text/html": [
       "\n",
       "\n",
       "  <div id=\"df-876ba477-4d63-43dd-b5bb-cb5375b8dd5e\">\n",
       "    <div class=\"colab-df-container\">\n",
       "      <div>\n",
       "<style scoped>\n",
       "    .dataframe tbody tr th:only-of-type {\n",
       "        vertical-align: middle;\n",
       "    }\n",
       "\n",
       "    .dataframe tbody tr th {\n",
       "        vertical-align: top;\n",
       "    }\n",
       "\n",
       "    .dataframe thead th {\n",
       "        text-align: right;\n",
       "    }\n",
       "</style>\n",
       "<table border=\"1\" class=\"dataframe\">\n",
       "  <thead>\n",
       "    <tr style=\"text-align: right;\">\n",
       "      <th></th>\n",
       "      <th>Time</th>\n",
       "      <th>V1</th>\n",
       "      <th>V2</th>\n",
       "      <th>V3</th>\n",
       "      <th>V4</th>\n",
       "      <th>V5</th>\n",
       "      <th>V6</th>\n",
       "      <th>V7</th>\n",
       "      <th>V8</th>\n",
       "      <th>V9</th>\n",
       "      <th>...</th>\n",
       "      <th>V21</th>\n",
       "      <th>V22</th>\n",
       "      <th>V23</th>\n",
       "      <th>V24</th>\n",
       "      <th>V25</th>\n",
       "      <th>V26</th>\n",
       "      <th>V27</th>\n",
       "      <th>V28</th>\n",
       "      <th>Amount</th>\n",
       "      <th>Class</th>\n",
       "    </tr>\n",
       "  </thead>\n",
       "  <tbody>\n",
       "    <tr>\n",
       "      <th>count</th>\n",
       "      <td>1000.000000</td>\n",
       "      <td>1000.000000</td>\n",
       "      <td>1000.000000</td>\n",
       "      <td>1000.000000</td>\n",
       "      <td>1000.000000</td>\n",
       "      <td>1000.000000</td>\n",
       "      <td>1000.000000</td>\n",
       "      <td>1000.000000</td>\n",
       "      <td>1000.000000</td>\n",
       "      <td>1000.000000</td>\n",
       "      <td>...</td>\n",
       "      <td>1000.000000</td>\n",
       "      <td>1000.000000</td>\n",
       "      <td>1000.000000</td>\n",
       "      <td>1000.000000</td>\n",
       "      <td>1000.000000</td>\n",
       "      <td>1000.000000</td>\n",
       "      <td>1000.000000</td>\n",
       "      <td>1000.000000</td>\n",
       "      <td>1000.000000</td>\n",
       "      <td>1000.000000</td>\n",
       "    </tr>\n",
       "    <tr>\n",
       "      <th>mean</th>\n",
       "      <td>371.478000</td>\n",
       "      <td>-0.185541</td>\n",
       "      <td>0.224434</td>\n",
       "      <td>0.873905</td>\n",
       "      <td>0.241431</td>\n",
       "      <td>-0.033144</td>\n",
       "      <td>0.152717</td>\n",
       "      <td>0.096350</td>\n",
       "      <td>-0.061222</td>\n",
       "      <td>-0.001297</td>\n",
       "      <td>...</td>\n",
       "      <td>0.004469</td>\n",
       "      <td>-0.124185</td>\n",
       "      <td>-0.039499</td>\n",
       "      <td>-0.000140</td>\n",
       "      <td>0.111538</td>\n",
       "      <td>0.026084</td>\n",
       "      <td>0.012885</td>\n",
       "      <td>-0.018732</td>\n",
       "      <td>66.430280</td>\n",
       "      <td>0.002000</td>\n",
       "    </tr>\n",
       "    <tr>\n",
       "      <th>std</th>\n",
       "      <td>223.289659</td>\n",
       "      <td>1.319761</td>\n",
       "      <td>1.154144</td>\n",
       "      <td>1.026305</td>\n",
       "      <td>1.257776</td>\n",
       "      <td>1.084735</td>\n",
       "      <td>1.235014</td>\n",
       "      <td>0.840424</td>\n",
       "      <td>0.883285</td>\n",
       "      <td>0.891584</td>\n",
       "      <td>...</td>\n",
       "      <td>0.630712</td>\n",
       "      <td>0.611319</td>\n",
       "      <td>0.356701</td>\n",
       "      <td>0.616917</td>\n",
       "      <td>0.429273</td>\n",
       "      <td>0.471476</td>\n",
       "      <td>0.319607</td>\n",
       "      <td>0.267576</td>\n",
       "      <td>187.272307</td>\n",
       "      <td>0.044699</td>\n",
       "    </tr>\n",
       "    <tr>\n",
       "      <th>min</th>\n",
       "      <td>0.000000</td>\n",
       "      <td>-6.093248</td>\n",
       "      <td>-12.114213</td>\n",
       "      <td>-5.694973</td>\n",
       "      <td>-4.657545</td>\n",
       "      <td>-6.631951</td>\n",
       "      <td>-3.498447</td>\n",
       "      <td>-4.925568</td>\n",
       "      <td>-7.494658</td>\n",
       "      <td>-2.980624</td>\n",
       "      <td>...</td>\n",
       "      <td>-4.134608</td>\n",
       "      <td>-2.776923</td>\n",
       "      <td>-3.553381</td>\n",
       "      <td>-1.867208</td>\n",
       "      <td>-1.544209</td>\n",
       "      <td>-1.243924</td>\n",
       "      <td>-3.525281</td>\n",
       "      <td>-2.735623</td>\n",
       "      <td>0.000000</td>\n",
       "      <td>0.000000</td>\n",
       "    </tr>\n",
       "    <tr>\n",
       "      <th>25%</th>\n",
       "      <td>170.500000</td>\n",
       "      <td>-0.935897</td>\n",
       "      <td>-0.186676</td>\n",
       "      <td>0.307137</td>\n",
       "      <td>-0.492527</td>\n",
       "      <td>-0.562147</td>\n",
       "      <td>-0.632045</td>\n",
       "      <td>-0.334229</td>\n",
       "      <td>-0.174967</td>\n",
       "      <td>-0.493081</td>\n",
       "      <td>...</td>\n",
       "      <td>-0.219778</td>\n",
       "      <td>-0.543714</td>\n",
       "      <td>-0.177905</td>\n",
       "      <td>-0.364287</td>\n",
       "      <td>-0.166227</td>\n",
       "      <td>-0.304858</td>\n",
       "      <td>-0.047232</td>\n",
       "      <td>-0.023108</td>\n",
       "      <td>5.442500</td>\n",
       "      <td>0.000000</td>\n",
       "    </tr>\n",
       "    <tr>\n",
       "      <th>50%</th>\n",
       "      <td>368.000000</td>\n",
       "      <td>-0.377203</td>\n",
       "      <td>0.284608</td>\n",
       "      <td>0.884642</td>\n",
       "      <td>0.326839</td>\n",
       "      <td>-0.148192</td>\n",
       "      <td>-0.122938</td>\n",
       "      <td>0.089204</td>\n",
       "      <td>0.030920</td>\n",
       "      <td>-0.063950</td>\n",
       "      <td>...</td>\n",
       "      <td>-0.080389</td>\n",
       "      <td>-0.101654</td>\n",
       "      <td>-0.050473</td>\n",
       "      <td>0.090331</td>\n",
       "      <td>0.144451</td>\n",
       "      <td>0.003190</td>\n",
       "      <td>0.020374</td>\n",
       "      <td>0.020367</td>\n",
       "      <td>16.185000</td>\n",
       "      <td>0.000000</td>\n",
       "    </tr>\n",
       "    <tr>\n",
       "      <th>75%</th>\n",
       "      <td>559.250000</td>\n",
       "      <td>1.126162</td>\n",
       "      <td>0.867528</td>\n",
       "      <td>1.529554</td>\n",
       "      <td>1.067740</td>\n",
       "      <td>0.440822</td>\n",
       "      <td>0.476314</td>\n",
       "      <td>0.561682</td>\n",
       "      <td>0.252395</td>\n",
       "      <td>0.439243</td>\n",
       "      <td>...</td>\n",
       "      <td>0.083731</td>\n",
       "      <td>0.281740</td>\n",
       "      <td>0.074797</td>\n",
       "      <td>0.420861</td>\n",
       "      <td>0.419504</td>\n",
       "      <td>0.263968</td>\n",
       "      <td>0.109761</td>\n",
       "      <td>0.084432</td>\n",
       "      <td>55.112500</td>\n",
       "      <td>0.000000</td>\n",
       "    </tr>\n",
       "    <tr>\n",
       "      <th>max</th>\n",
       "      <td>755.000000</td>\n",
       "      <td>1.685314</td>\n",
       "      <td>5.267376</td>\n",
       "      <td>4.017561</td>\n",
       "      <td>4.861129</td>\n",
       "      <td>7.672544</td>\n",
       "      <td>5.122103</td>\n",
       "      <td>4.808426</td>\n",
       "      <td>3.877662</td>\n",
       "      <td>5.459274</td>\n",
       "      <td>...</td>\n",
       "      <td>5.273420</td>\n",
       "      <td>1.574750</td>\n",
       "      <td>3.150413</td>\n",
       "      <td>1.215279</td>\n",
       "      <td>1.206820</td>\n",
       "      <td>3.087444</td>\n",
       "      <td>2.490503</td>\n",
       "      <td>1.575380</td>\n",
       "      <td>3828.040000</td>\n",
       "      <td>1.000000</td>\n",
       "    </tr>\n",
       "  </tbody>\n",
       "</table>\n",
       "<p>8 rows × 31 columns</p>\n",
       "</div>\n",
       "      <button class=\"colab-df-convert\" onclick=\"convertToInteractive('df-876ba477-4d63-43dd-b5bb-cb5375b8dd5e')\"\n",
       "              title=\"Convert this dataframe to an interactive table.\"\n",
       "              style=\"display:none;\">\n",
       "\n",
       "  <svg xmlns=\"http://www.w3.org/2000/svg\" height=\"24px\"viewBox=\"0 0 24 24\"\n",
       "       width=\"24px\">\n",
       "    <path d=\"M0 0h24v24H0V0z\" fill=\"none\"/>\n",
       "    <path d=\"M18.56 5.44l.94 2.06.94-2.06 2.06-.94-2.06-.94-.94-2.06-.94 2.06-2.06.94zm-11 1L8.5 8.5l.94-2.06 2.06-.94-2.06-.94L8.5 2.5l-.94 2.06-2.06.94zm10 10l.94 2.06.94-2.06 2.06-.94-2.06-.94-.94-2.06-.94 2.06-2.06.94z\"/><path d=\"M17.41 7.96l-1.37-1.37c-.4-.4-.92-.59-1.43-.59-.52 0-1.04.2-1.43.59L10.3 9.45l-7.72 7.72c-.78.78-.78 2.05 0 2.83L4 21.41c.39.39.9.59 1.41.59.51 0 1.02-.2 1.41-.59l7.78-7.78 2.81-2.81c.8-.78.8-2.07 0-2.86zM5.41 20L4 18.59l7.72-7.72 1.47 1.35L5.41 20z\"/>\n",
       "  </svg>\n",
       "      </button>\n",
       "\n",
       "\n",
       "\n",
       "    <div id=\"df-55418e72-f1e1-4ab8-a512-b197008ca8ee\">\n",
       "      <button class=\"colab-df-quickchart\" onclick=\"quickchart('df-55418e72-f1e1-4ab8-a512-b197008ca8ee')\"\n",
       "              title=\"Suggest charts.\"\n",
       "              style=\"display:none;\">\n",
       "\n",
       "<svg xmlns=\"http://www.w3.org/2000/svg\" height=\"24px\"viewBox=\"0 0 24 24\"\n",
       "     width=\"24px\">\n",
       "    <g>\n",
       "        <path d=\"M19 3H5c-1.1 0-2 .9-2 2v14c0 1.1.9 2 2 2h14c1.1 0 2-.9 2-2V5c0-1.1-.9-2-2-2zM9 17H7v-7h2v7zm4 0h-2V7h2v10zm4 0h-2v-4h2v4z\"/>\n",
       "    </g>\n",
       "</svg>\n",
       "      </button>\n",
       "    </div>\n",
       "\n",
       "<style>\n",
       "  .colab-df-quickchart {\n",
       "    background-color: #E8F0FE;\n",
       "    border: none;\n",
       "    border-radius: 50%;\n",
       "    cursor: pointer;\n",
       "    display: none;\n",
       "    fill: #1967D2;\n",
       "    height: 32px;\n",
       "    padding: 0 0 0 0;\n",
       "    width: 32px;\n",
       "  }\n",
       "\n",
       "  .colab-df-quickchart:hover {\n",
       "    background-color: #E2EBFA;\n",
       "    box-shadow: 0px 1px 2px rgba(60, 64, 67, 0.3), 0px 1px 3px 1px rgba(60, 64, 67, 0.15);\n",
       "    fill: #174EA6;\n",
       "  }\n",
       "\n",
       "  [theme=dark] .colab-df-quickchart {\n",
       "    background-color: #3B4455;\n",
       "    fill: #D2E3FC;\n",
       "  }\n",
       "\n",
       "  [theme=dark] .colab-df-quickchart:hover {\n",
       "    background-color: #434B5C;\n",
       "    box-shadow: 0px 1px 3px 1px rgba(0, 0, 0, 0.15);\n",
       "    filter: drop-shadow(0px 1px 2px rgba(0, 0, 0, 0.3));\n",
       "    fill: #FFFFFF;\n",
       "  }\n",
       "</style>\n",
       "\n",
       "    <script>\n",
       "      async function quickchart(key) {\n",
       "        const containerElement = document.querySelector('#' + key);\n",
       "        const charts = await google.colab.kernel.invokeFunction(\n",
       "            'suggestCharts', [key], {});\n",
       "      }\n",
       "    </script>\n",
       "\n",
       "      <script>\n",
       "\n",
       "function displayQuickchartButton(domScope) {\n",
       "  let quickchartButtonEl =\n",
       "    domScope.querySelector('#df-55418e72-f1e1-4ab8-a512-b197008ca8ee button.colab-df-quickchart');\n",
       "  quickchartButtonEl.style.display =\n",
       "    google.colab.kernel.accessAllowed ? 'block' : 'none';\n",
       "}\n",
       "\n",
       "        displayQuickchartButton(document);\n",
       "      </script>\n",
       "      <style>\n",
       "    .colab-df-container {\n",
       "      display:flex;\n",
       "      flex-wrap:wrap;\n",
       "      gap: 12px;\n",
       "    }\n",
       "\n",
       "    .colab-df-convert {\n",
       "      background-color: #E8F0FE;\n",
       "      border: none;\n",
       "      border-radius: 50%;\n",
       "      cursor: pointer;\n",
       "      display: none;\n",
       "      fill: #1967D2;\n",
       "      height: 32px;\n",
       "      padding: 0 0 0 0;\n",
       "      width: 32px;\n",
       "    }\n",
       "\n",
       "    .colab-df-convert:hover {\n",
       "      background-color: #E2EBFA;\n",
       "      box-shadow: 0px 1px 2px rgba(60, 64, 67, 0.3), 0px 1px 3px 1px rgba(60, 64, 67, 0.15);\n",
       "      fill: #174EA6;\n",
       "    }\n",
       "\n",
       "    [theme=dark] .colab-df-convert {\n",
       "      background-color: #3B4455;\n",
       "      fill: #D2E3FC;\n",
       "    }\n",
       "\n",
       "    [theme=dark] .colab-df-convert:hover {\n",
       "      background-color: #434B5C;\n",
       "      box-shadow: 0px 1px 3px 1px rgba(0, 0, 0, 0.15);\n",
       "      filter: drop-shadow(0px 1px 2px rgba(0, 0, 0, 0.3));\n",
       "      fill: #FFFFFF;\n",
       "    }\n",
       "  </style>\n",
       "\n",
       "      <script>\n",
       "        const buttonEl =\n",
       "          document.querySelector('#df-876ba477-4d63-43dd-b5bb-cb5375b8dd5e button.colab-df-convert');\n",
       "        buttonEl.style.display =\n",
       "          google.colab.kernel.accessAllowed ? 'block' : 'none';\n",
       "\n",
       "        async function convertToInteractive(key) {\n",
       "          const element = document.querySelector('#df-876ba477-4d63-43dd-b5bb-cb5375b8dd5e');\n",
       "          const dataTable =\n",
       "            await google.colab.kernel.invokeFunction('convertToInteractive',\n",
       "                                                     [key], {});\n",
       "          if (!dataTable) return;\n",
       "\n",
       "          const docLinkHtml = 'Like what you see? Visit the ' +\n",
       "            '<a target=\"_blank\" href=https://colab.research.google.com/notebooks/data_table.ipynb>data table notebook</a>'\n",
       "            + ' to learn more about interactive tables.';\n",
       "          element.innerHTML = '';\n",
       "          dataTable['output_type'] = 'display_data';\n",
       "          await google.colab.output.renderOutput(dataTable, element);\n",
       "          const docLink = document.createElement('div');\n",
       "          docLink.innerHTML = docLinkHtml;\n",
       "          element.appendChild(docLink);\n",
       "        }\n",
       "      </script>\n",
       "    </div>\n",
       "  </div>\n"
      ],
      "text/plain": [
       "              Time           V1           V2           V3           V4  \\\n",
       "count  1000.000000  1000.000000  1000.000000  1000.000000  1000.000000   \n",
       "mean    371.478000    -0.185541     0.224434     0.873905     0.241431   \n",
       "std     223.289659     1.319761     1.154144     1.026305     1.257776   \n",
       "min       0.000000    -6.093248   -12.114213    -5.694973    -4.657545   \n",
       "25%     170.500000    -0.935897    -0.186676     0.307137    -0.492527   \n",
       "50%     368.000000    -0.377203     0.284608     0.884642     0.326839   \n",
       "75%     559.250000     1.126162     0.867528     1.529554     1.067740   \n",
       "max     755.000000     1.685314     5.267376     4.017561     4.861129   \n",
       "\n",
       "                V5           V6           V7           V8           V9  ...  \\\n",
       "count  1000.000000  1000.000000  1000.000000  1000.000000  1000.000000  ...   \n",
       "mean     -0.033144     0.152717     0.096350    -0.061222    -0.001297  ...   \n",
       "std       1.084735     1.235014     0.840424     0.883285     0.891584  ...   \n",
       "min      -6.631951    -3.498447    -4.925568    -7.494658    -2.980624  ...   \n",
       "25%      -0.562147    -0.632045    -0.334229    -0.174967    -0.493081  ...   \n",
       "50%      -0.148192    -0.122938     0.089204     0.030920    -0.063950  ...   \n",
       "75%       0.440822     0.476314     0.561682     0.252395     0.439243  ...   \n",
       "max       7.672544     5.122103     4.808426     3.877662     5.459274  ...   \n",
       "\n",
       "               V21          V22          V23          V24          V25  \\\n",
       "count  1000.000000  1000.000000  1000.000000  1000.000000  1000.000000   \n",
       "mean      0.004469    -0.124185    -0.039499    -0.000140     0.111538   \n",
       "std       0.630712     0.611319     0.356701     0.616917     0.429273   \n",
       "min      -4.134608    -2.776923    -3.553381    -1.867208    -1.544209   \n",
       "25%      -0.219778    -0.543714    -0.177905    -0.364287    -0.166227   \n",
       "50%      -0.080389    -0.101654    -0.050473     0.090331     0.144451   \n",
       "75%       0.083731     0.281740     0.074797     0.420861     0.419504   \n",
       "max       5.273420     1.574750     3.150413     1.215279     1.206820   \n",
       "\n",
       "               V26          V27          V28       Amount        Class  \n",
       "count  1000.000000  1000.000000  1000.000000  1000.000000  1000.000000  \n",
       "mean      0.026084     0.012885    -0.018732    66.430280     0.002000  \n",
       "std       0.471476     0.319607     0.267576   187.272307     0.044699  \n",
       "min      -1.243924    -3.525281    -2.735623     0.000000     0.000000  \n",
       "25%      -0.304858    -0.047232    -0.023108     5.442500     0.000000  \n",
       "50%       0.003190     0.020374     0.020367    16.185000     0.000000  \n",
       "75%       0.263968     0.109761     0.084432    55.112500     0.000000  \n",
       "max       3.087444     2.490503     1.575380  3828.040000     1.000000  \n",
       "\n",
       "[8 rows x 31 columns]"
      ]
     },
     "execution_count": 6,
     "metadata": {},
     "output_type": "execute_result"
    }
   ],
   "source": [
    "dt.describe()"
   ]
  },
  {
   "cell_type": "code",
   "execution_count": 7,
   "id": "df70b9ea",
   "metadata": {
    "colab": {
     "base_uri": "https://localhost:8080/"
    },
    "executionInfo": {
     "elapsed": 412,
     "status": "ok",
     "timestamp": 1690814308173,
     "user": {
      "displayName": "8905 TABASSUM SHAIKH",
      "userId": "13412648063279924252"
     },
     "user_tz": -330
    },
    "id": "df70b9ea",
    "outputId": "e506f589-10c4-4211-9957-56a0e8f1f3c0"
   },
   "outputs": [
    {
     "name": "stdout",
     "output_type": "stream",
     "text": [
      "<class 'pandas.core.frame.DataFrame'>\n",
      "RangeIndex: 1000 entries, 0 to 999\n",
      "Data columns (total 31 columns):\n",
      " #   Column  Non-Null Count  Dtype  \n",
      "---  ------  --------------  -----  \n",
      " 0   Time    1000 non-null   int64  \n",
      " 1   V1      1000 non-null   float64\n",
      " 2   V2      1000 non-null   float64\n",
      " 3   V3      1000 non-null   float64\n",
      " 4   V4      1000 non-null   float64\n",
      " 5   V5      1000 non-null   float64\n",
      " 6   V6      1000 non-null   float64\n",
      " 7   V7      1000 non-null   float64\n",
      " 8   V8      1000 non-null   float64\n",
      " 9   V9      1000 non-null   float64\n",
      " 10  V10     1000 non-null   float64\n",
      " 11  V11     1000 non-null   float64\n",
      " 12  V12     1000 non-null   float64\n",
      " 13  V13     1000 non-null   float64\n",
      " 14  V14     1000 non-null   float64\n",
      " 15  V15     1000 non-null   float64\n",
      " 16  V16     1000 non-null   float64\n",
      " 17  V17     1000 non-null   float64\n",
      " 18  V18     1000 non-null   float64\n",
      " 19  V19     1000 non-null   float64\n",
      " 20  V20     1000 non-null   float64\n",
      " 21  V21     1000 non-null   float64\n",
      " 22  V22     1000 non-null   float64\n",
      " 23  V23     1000 non-null   float64\n",
      " 24  V24     1000 non-null   float64\n",
      " 25  V25     1000 non-null   float64\n",
      " 26  V26     1000 non-null   float64\n",
      " 27  V27     1000 non-null   float64\n",
      " 28  V28     1000 non-null   float64\n",
      " 29  Amount  1000 non-null   float64\n",
      " 30  Class   1000 non-null   int64  \n",
      "dtypes: float64(29), int64(2)\n",
      "memory usage: 242.3 KB\n"
     ]
    }
   ],
   "source": [
    "dt.info()"
   ]
  },
  {
   "cell_type": "code",
   "execution_count": 8,
   "id": "6c601038",
   "metadata": {
    "colab": {
     "base_uri": "https://localhost:8080/"
    },
    "executionInfo": {
     "elapsed": 387,
     "status": "ok",
     "timestamp": 1690814310731,
     "user": {
      "displayName": "8905 TABASSUM SHAIKH",
      "userId": "13412648063279924252"
     },
     "user_tz": -330
    },
    "id": "6c601038",
    "outputId": "ccac8f79-99c3-43a7-900d-d893c25a2595"
   },
   "outputs": [
    {
     "data": {
      "text/plain": [
       "Time      0\n",
       "V1        0\n",
       "V2        0\n",
       "V3        0\n",
       "V4        0\n",
       "V5        0\n",
       "V6        0\n",
       "V7        0\n",
       "V8        0\n",
       "V9        0\n",
       "V10       0\n",
       "V11       0\n",
       "V12       0\n",
       "V13       0\n",
       "V14       0\n",
       "V15       0\n",
       "V16       0\n",
       "V17       0\n",
       "V18       0\n",
       "V19       0\n",
       "V20       0\n",
       "V21       0\n",
       "V22       0\n",
       "V23       0\n",
       "V24       0\n",
       "V25       0\n",
       "V26       0\n",
       "V27       0\n",
       "V28       0\n",
       "Amount    0\n",
       "Class     0\n",
       "dtype: int64"
      ]
     },
     "execution_count": 8,
     "metadata": {},
     "output_type": "execute_result"
    }
   ],
   "source": [
    "#to check nulls values in the dataset\n",
    "dt.isnull().sum()"
   ]
  },
  {
   "cell_type": "code",
   "execution_count": 9,
   "id": "07854775",
   "metadata": {
    "colab": {
     "base_uri": "https://localhost:8080/"
    },
    "executionInfo": {
     "elapsed": 449,
     "status": "ok",
     "timestamp": 1690814314586,
     "user": {
      "displayName": "8905 TABASSUM SHAIKH",
      "userId": "13412648063279924252"
     },
     "user_tz": -330
    },
    "id": "07854775",
    "outputId": "da6b0680-327e-426d-c5d5-7dfd840f01be"
   },
   "outputs": [
    {
     "data": {
      "text/plain": [
       "7"
      ]
     },
     "execution_count": 9,
     "metadata": {},
     "output_type": "execute_result"
    }
   ],
   "source": [
    "dt.duplicated().sum()"
   ]
  },
  {
   "cell_type": "code",
   "execution_count": 10,
   "id": "792ca463",
   "metadata": {
    "colab": {
     "base_uri": "https://localhost:8080/"
    },
    "executionInfo": {
     "elapsed": 5,
     "status": "ok",
     "timestamp": 1690814316005,
     "user": {
      "displayName": "8905 TABASSUM SHAIKH",
      "userId": "13412648063279924252"
     },
     "user_tz": -330
    },
    "id": "792ca463",
    "outputId": "2d3f37ae-c90a-48d0-b08c-b416d7132a5d"
   },
   "outputs": [
    {
     "data": {
      "text/plain": [
       "Time      540\n",
       "V1        992\n",
       "V2        992\n",
       "V3        992\n",
       "V4        992\n",
       "V5        992\n",
       "V6        992\n",
       "V7        992\n",
       "V8        992\n",
       "V9        992\n",
       "V10       992\n",
       "V11       992\n",
       "V12       992\n",
       "V13       992\n",
       "V14       992\n",
       "V15       992\n",
       "V16       992\n",
       "V17       992\n",
       "V18       992\n",
       "V19       992\n",
       "V20       992\n",
       "V21       992\n",
       "V22       992\n",
       "V23       992\n",
       "V24       992\n",
       "V25       992\n",
       "V26       992\n",
       "V27       992\n",
       "V28       992\n",
       "Amount    639\n",
       "Class       2\n",
       "dtype: int64"
      ]
     },
     "execution_count": 10,
     "metadata": {},
     "output_type": "execute_result"
    }
   ],
   "source": [
    "dt.nunique()"
   ]
  },
  {
   "cell_type": "code",
   "execution_count": 11,
   "id": "c0b1fad6",
   "metadata": {
    "colab": {
     "base_uri": "https://localhost:8080/"
    },
    "executionInfo": {
     "elapsed": 394,
     "status": "ok",
     "timestamp": 1690814319081,
     "user": {
      "displayName": "8905 TABASSUM SHAIKH",
      "userId": "13412648063279924252"
     },
     "user_tz": -330
    },
    "id": "c0b1fad6",
    "outputId": "d2511931-3abb-491f-cbad-239b3743ca80"
   },
   "outputs": [
    {
     "name": "stdout",
     "output_type": "stream",
     "text": [
      "0.002004008016032064\n",
      "Total Fraud Cases: 2\n",
      "Valid Transactions: 998\n"
     ]
    }
   ],
   "source": [
    "# Determine number of fraud cases in dataset\n",
    "fraud = dt[dt['Class'] == 1]\n",
    "valid = dt[dt['Class'] == 0]\n",
    "outlierFraction = len(fraud)/float(len(valid))\n",
    "print(outlierFraction)\n",
    "print('Total Fraud Cases: {}'.format(len(dt[dt['Class'] == 1])))\n",
    "print('Valid Transactions: {}'.format(len(dt[dt['Class'] == 0])))"
   ]
  },
  {
   "cell_type": "code",
   "execution_count": 12,
   "id": "4f1f9650",
   "metadata": {
    "colab": {
     "base_uri": "https://localhost:8080/"
    },
    "executionInfo": {
     "elapsed": 410,
     "status": "ok",
     "timestamp": 1690814322960,
     "user": {
      "displayName": "8905 TABASSUM SHAIKH",
      "userId": "13412648063279924252"
     },
     "user_tz": -330
    },
    "id": "4f1f9650",
    "outputId": "62db0a3d-b4f4-4975-8ccb-d1a12aa2ae4a"
   },
   "outputs": [
    {
     "name": "stdout",
     "output_type": "stream",
     "text": [
      "Amount details of the fraudulent transaction\n"
     ]
    },
    {
     "data": {
      "text/plain": [
       "count      2.000000\n",
       "mean     264.500000\n",
       "std      374.059487\n",
       "min        0.000000\n",
       "25%      132.250000\n",
       "50%      264.500000\n",
       "75%      396.750000\n",
       "max      529.000000\n",
       "Name: Amount, dtype: float64"
      ]
     },
     "execution_count": 12,
     "metadata": {},
     "output_type": "execute_result"
    }
   ],
   "source": [
    "print(\"Amount details of the fraudulent transaction\")\n",
    "fraud.Amount.describe()"
   ]
  },
  {
   "cell_type": "code",
   "execution_count": 13,
   "id": "882251ae",
   "metadata": {
    "colab": {
     "base_uri": "https://localhost:8080/"
    },
    "executionInfo": {
     "elapsed": 362,
     "status": "ok",
     "timestamp": 1690814326520,
     "user": {
      "displayName": "8905 TABASSUM SHAIKH",
      "userId": "13412648063279924252"
     },
     "user_tz": -330
    },
    "id": "882251ae",
    "outputId": "6224b638-2ab7-4e93-d549-28303fcd2b34"
   },
   "outputs": [
    {
     "name": "stdout",
     "output_type": "stream",
     "text": [
      "details of valid transaction\n"
     ]
    },
    {
     "data": {
      "text/plain": [
       "count     998.000000\n",
       "mean       66.033347\n",
       "std       186.874480\n",
       "min         0.000000\n",
       "25%         5.452500\n",
       "50%        16.185000\n",
       "75%        54.997500\n",
       "max      3828.040000\n",
       "Name: Amount, dtype: float64"
      ]
     },
     "execution_count": 13,
     "metadata": {},
     "output_type": "execute_result"
    }
   ],
   "source": [
    "print(\"details of valid transaction\")\n",
    "valid.Amount.describe()"
   ]
  },
  {
   "cell_type": "code",
   "execution_count": 14,
   "id": "98d98375",
   "metadata": {
    "colab": {
     "base_uri": "https://localhost:8080/",
     "height": 799
    },
    "executionInfo": {
     "elapsed": 1222,
     "status": "ok",
     "timestamp": 1690814330548,
     "user": {
      "displayName": "8905 TABASSUM SHAIKH",
      "userId": "13412648063279924252"
     },
     "user_tz": -330
    },
    "id": "98d98375",
    "outputId": "c2007975-39ec-4f26-f382-fb59860b3c8f"
   },
   "outputs": [
    {
     "data": {
      "image/png": "[encoded data removed]",
      "text/plain": [
       "<Figure size 1200x900 with 2 Axes>"
      ]
     },
     "metadata": {},
     "output_type": "display_data"
    }
   ],
   "source": [
    "#Correlation matrix\n",
    "#The correlation matrix graphically gives us an idea of\n",
    "#how features correlate with each other and can help us predict\n",
    "#what are the features that are most relevant for the prediction.\n",
    "corrmat = dt.corr()\n",
    "fig = plt.figure(figsize = (12, 9))\n",
    "sns.heatmap(corrmat, vmax = .8, square = True,cmap='Purples')\n",
    "plt.show()"
   ]
  },
  {
   "cell_type": "code",
   "execution_count": 17,
   "id": "e1845042",
   "metadata": {
    "colab": {
     "base_uri": "https://localhost:8080/"
    },
    "executionInfo": {
     "elapsed": 1678,
     "status": "ok",
     "timestamp": 1690815613860,
     "user": {
      "displayName": "8905 TABASSUM SHAIKH",
      "userId": "13412648063279924252"
     },
     "user_tz": -330
    },
    "id": "e1845042",
    "outputId": "749cfe98-b706-4f35-9896-74f3b985d712"
   },
   "outputs": [
    {
     "data": {
      "text/plain": [
       "Time       755.000000\n",
       "V1           1.685314\n",
       "V2           5.267376\n",
       "V3           4.017561\n",
       "V4           4.861129\n",
       "V5           7.672544\n",
       "V6           5.122103\n",
       "V7           4.808426\n",
       "V8           3.877662\n",
       "V9           5.459274\n",
       "V10          8.821756\n",
       "V11          3.202033\n",
       "V12          2.152055\n",
       "V13          2.142710\n",
       "V14          1.977296\n",
       "V15          2.703685\n",
       "V16          1.898748\n",
       "V17          3.986289\n",
       "V18          2.689762\n",
       "V19          2.862706\n",
       "V20          7.744222\n",
       "V21          5.273420\n",
       "V22          1.574750\n",
       "V23          3.150413\n",
       "V24          1.215279\n",
       "V25          1.206820\n",
       "V26          3.087444\n",
       "V27          2.490503\n",
       "V28          1.575380\n",
       "Amount    3828.040000\n",
       "Class        1.000000\n",
       "dtype: float64"
      ]
     },
     "execution_count": 17,
     "metadata": {},
     "output_type": "execute_result"
    }
   ],
   "source": [
    "dt.apply(np.max)"
   ]
  },
  {
   "cell_type": "code",
   "execution_count": 18,
   "id": "9f91916b",
   "metadata": {
    "colab": {
     "base_uri": "https://localhost:8080/"
    },
    "executionInfo": {
     "elapsed": 399,
     "status": "ok",
     "timestamp": 1690816321508,
     "user": {
      "displayName": "8905 TABASSUM SHAIKH",
      "userId": "13412648063279924252"
     },
     "user_tz": -330
    },
    "id": "9f91916b",
    "outputId": "aae1efe5-c581-4151-f1af-f6a57906a41a"
   },
   "outputs": [
    {
     "name": "stdout",
     "output_type": "stream",
     "text": [
      "Number of duplicated rows:  (7, 31)\n"
     ]
    }
   ],
   "source": [
    "duplicate_rows_data = dt[dt.duplicated()]\n",
    "print(\"Number of duplicated rows: \", duplicate_rows_data.shape)"
   ]
  },
  {
   "cell_type": "code",
   "execution_count": 38,
   "id": "8902d392",
   "metadata": {
    "colab": {
     "base_uri": "https://localhost:8080/",
     "height": 506
    },
    "executionInfo": {
     "elapsed": 1324,
     "status": "ok",
     "timestamp": 1690817069255,
     "user": {
      "displayName": "8905 TABASSUM SHAIKH",
      "userId": "13412648063279924252"
     },
     "user_tz": -330
    },
    "id": "8902d392",
    "outputId": "455bf747-db6f-4f4e-d547-8c7e95f3d58d"
   },
   "outputs": [
    {
     "data": {
      "image/png": "[encoded data removed]",
      "text/plain": [
       "<Figure size 640x480 with 1 Axes>"
      ]
     },
     "metadata": {},
     "output_type": "display_data"
    }
   ],
   "source": [
    "#with help of countplot we can compare amount with fraud\n",
    "sns.countplot(x='Amount',data=dt.head(40))\n",
    "plt.title('Category distribution')\n",
    "plt.xticks(rotation=90)\n",
    "\n",
    "plt.show()"
   ]
  },
  {
   "cell_type": "code",
   "execution_count": 48,
   "id": "b538e3c3",
   "metadata": {
    "colab": {
     "base_uri": "https://localhost:8080/",
     "height": 472
    },
    "executionInfo": {
     "elapsed": 782,
     "status": "ok",
     "timestamp": 1690817632211,
     "user": {
      "displayName": "8905 TABASSUM SHAIKH",
      "userId": "13412648063279924252"
     },
     "user_tz": -330
    },
    "id": "b538e3c3",
    "outputId": "3e8703ac-2f11-44fe-b29d-107b46bc6b2b"
   },
   "outputs": [
    {
     "data": {
      "image/png": "[encoded data removed]",
      "text/plain": [
       "<Figure size 640x480 with 1 Axes>"
      ]
     },
     "metadata": {},
     "output_type": "display_data"
    }
   ],
   "source": [
    "#using scatterplot we have specify fraud of V16 column\n",
    "sns.scatterplot(data=dt.head(80), x='Amount',y ='V16')\n",
    "plt.title('Amount vs Age vs Fraud')\n",
    "plt.show()"
   ]
  },
  {
   "cell_type": "code",
   "execution_count": 57,
   "id": "WoRlk4ROy8_4",
   "metadata": {
    "colab": {
     "base_uri": "https://localhost:8080/",
     "height": 538
    },
    "executionInfo": {
     "elapsed": 1008,
     "status": "ok",
     "timestamp": 1690821203325,
     "user": {
      "displayName": "8905 TABASSUM SHAIKH",
      "userId": "13412648063279924252"
     },
     "user_tz": -330
    },
    "id": "WoRlk4ROy8_4",
    "outputId": "2c0fa62a-6b12-44d3-c934-24d7e2c41910"
   },
   "outputs": [
    {
     "data": {
      "text/plain": [
       "Text(0.5, 1.0, 'Distribution of Fraud and Safe transactions ')"
      ]
     },
     "execution_count": 57,
     "metadata": {},
     "output_type": "execute_result"
    },
    {
     "data": {
      "image/png": "[encoded data removed]",
      "text/plain": [
       "<Figure size 1200x600 with 1 Axes>"
      ]
     },
     "metadata": {},
     "output_type": "display_data"
    }
   ],
   "source": [
    "m = dt['Class'].value_counts()\n",
    "m.plot(kind ='pie', autopct = '%1.1f%%', figsize = (12,6))\n",
    "plt.legend()\n",
    "plt.title('Distribution of Fraud and Safe transactions ')"
   ]
  },
  {
   "cell_type": "code",
   "execution_count": 59,
   "id": "Tl2578LNzLyF",
   "metadata": {
    "colab": {
     "base_uri": "https://localhost:8080/",
     "height": 466
    },
    "executionInfo": {
     "elapsed": 1328,
     "status": "ok",
     "timestamp": 1690821260088,
     "user": {
      "displayName": "8905 TABASSUM SHAIKH",
      "userId": "13412648063279924252"
     },
     "user_tz": -330
    },
    "id": "Tl2578LNzLyF",
    "outputId": "09795669-1499-4182-b65d-8510401cabf9"
   },
   "outputs": [
    {
     "data": {
      "text/plain": [
       "Text(0, 0.5, 'Mean of Transaction Amount')"
      ]
     },
     "execution_count": 59,
     "metadata": {},
     "output_type": "execute_result"
    },
    {
     "data": {
      "image/png": "[encoded data removed]",
      "text/plain": [
       "<Figure size 640x480 with 1 Axes>"
      ]
     },
     "metadata": {},
     "output_type": "display_data"
    }
   ],
   "source": [
    "sns.barplot(data=dt, x='Class', y='Amount')\n",
    "plt.ylabel('Mean of Transaction Amount')"
   ]
  }
 ],
 "metadata": {
  "colab": {
   "provenance": [],
   "toc_visible": true
  },
  "kernelspec": {
   "display_name": "Python 3 (ipykernel)",
   "language": "python",
   "name": "python3"
  },
  "language_info": {
   "codemirror_mode": {
    "name": "ipython",
    "version": 3
   },
   "file_extension": ".py",
   "mimetype": "text/x-python",
   "name": "python",
   "nbconvert_exporter": "python",
   "pygments_lexer": "ipython3",
   "version": "3.9.12"
  }
 },
 "nbformat": 4,
 "nbformat_minor": 5
}
